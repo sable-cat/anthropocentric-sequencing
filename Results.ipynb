{
 "cells": [
  {
   "cell_type": "markdown",
   "metadata": {},
   "source": [
    "Imports:"
   ]
  },
  {
   "cell_type": "code",
   "execution_count": 5,
   "metadata": {},
   "outputs": [],
   "source": [
    "import matplotlib.pyplot as plt\n",
    "import numpy as np\n",
    "import sys\n",
    "import os\n",
    "import csv\n",
    "from utils import *\n",
    "from vhparser import *"
   ]
  },
  {
   "cell_type": "markdown",
   "metadata": {},
   "source": [
    "Obtain the list of entries in the VHDB and parse it"
   ]
  },
  {
   "cell_type": "code",
   "execution_count": 2,
   "metadata": {},
   "outputs": [],
   "source": [
    "entries = getListOfEntries(\"virushostdb.tsv\")\n",
    "myEntries = MyVHDB.fromVHDBEntries(entries)"
   ]
  },
  {
   "cell_type": "markdown",
   "metadata": {},
   "source": [
    "Determine the number of unique host species and virus species:"
   ]
  },
  {
   "cell_type": "code",
   "execution_count": 3,
   "metadata": {},
   "outputs": [
    {
     "name": "stdout",
     "output_type": "stream",
     "text": [
      "Number of unique Viruses: 11040\n",
      "Number of unique Hosts:   3119\n"
     ]
    }
   ],
   "source": [
    "def countHosts(myvhdb):\n",
    "    counter = Counter()\n",
    "    for key, record in myvhdb.items():\n",
    "        for host in record.hosts:\n",
    "            counter.add(host.name, 1)\n",
    "\n",
    "    return counter\n",
    "\n",
    "hostCounter = countHosts(myEntries)\n",
    "print(\"Number of unique Viruses: %d\" % len(myEntries.keys()))\n",
    "print(\"Number of unique Hosts:   %d\" % hostCounter.numPresentKeys())"
   ]
  },
  {
   "cell_type": "markdown",
   "metadata": {},
   "source": [
    "Determine how many viruses infect humans or at least one domesticated animal species:"
   ]
  },
  {
   "cell_type": "code",
   "execution_count": 17,
   "metadata": {},
   "outputs": [
    {
     "name": "stdout",
     "output_type": "stream",
     "text": [
      "Number of Viruses that Infect at Least One Metazoan: 4254\n",
      "Number of Viruses that Infect At Least One Domesticated Animal Host: 384\n",
      "Number of Viruses that Infect Humans: 1309\n",
      "Number of Viruses that Infect Both: 19\n"
     ]
    },
    {
     "data": {
      "image/png": "[encoded data removed]",
      "text/plain": [
       "<Figure size 432x288 with 1 Axes>"
      ]
     },
     "metadata": {},
     "output_type": "display_data"
    }
   ],
   "source": [
    "# Name records sometimes abbreviate the genus name (e.g. \"A. mellifera\") and sometimes contain multiple species in the format \"speciesA x speciesB x ...\".\n",
    "# This method extracts all names and possible abbreviations for them.\n",
    "def getSpeciesNamesFromNameRecord(name):\n",
    "    species_names = name.split(\" x \")\n",
    "    orig_length = len(species_names)\n",
    "    for species_name in species_names[:orig_length]:\n",
    "        split_name = species_name.split(' ')\n",
    "        if len(split_name) > 1:\n",
    "            abbrev_genus = \"{}.\".format(split_name[0][0])\n",
    "            for n in split_name[1:]:\n",
    "                abbrev_genus = \"{} {}\".format(abbrev_genus, n)\n",
    "            \n",
    "            species_names.append(abbrev_genus)\n",
    "    \n",
    "    return species_names\n",
    "\n",
    "def getDomesticatedAnimals(infile):\n",
    "    domesticated_animals = []\n",
    "    \n",
    "    with open(infile) as dafile:\n",
    "        reader = csv.reader(dafile)\n",
    "        domesticated_animals = list(reader)[0]\n",
    "            \n",
    "    return domesticated_animals;\n",
    "\n",
    "DOMESTICATED_ANIMALS = getDomesticatedAnimals(\"Domesticated-Animals.csv\")\n",
    "\n",
    "def countInfectsAtLeastOneMetazoan(myvhdb):\n",
    "    count = 0\n",
    "    for key, record in myvhdb.items():\n",
    "        for host in record.hosts:\n",
    "            if 'Metazoa' in host.lineage:\n",
    "                count = count + 1\n",
    "                break\n",
    "                \n",
    "    return count\n",
    "\n",
    "def countInfectsAtLeastOneDomesticatedAnimal(myvhdb):\n",
    "    count = 0\n",
    "    for key, record in myvhdb.items():\n",
    "        for host in record.hosts:\n",
    "            counted = False\n",
    "            host_names = getSpeciesNamesFromNameRecord(host.name)\n",
    "            for host_name in host_names:\n",
    "                if (host_name in DOMESTICATED_ANIMALS):\n",
    "                    counted = True\n",
    "                    \n",
    "            if counted: count = count + 1\n",
    "    \n",
    "    return count\n",
    "\n",
    "def countInfectsHumans(myvhdb):\n",
    "    count = 0\n",
    "    for key, record in myvhdb.items():\n",
    "        for host in record.hosts:\n",
    "            counted = False\n",
    "            host_names = getSpeciesNamesFromNameRecord(host.name)\n",
    "            for host_name in host_names:\n",
    "                if host_name == \"Homo sapiens\":\n",
    "                    counted = True\n",
    "                    \n",
    "            if counted: count = count + 1\n",
    "                    \n",
    "    \n",
    "    return count\n",
    "\n",
    "def countInfectsHumansAndAtLeastOneDomesticatedAnimal(myvhdb):\n",
    "    count = 0\n",
    "    for key, record in myvhdb.items():\n",
    "        hum = False\n",
    "        dom = False\n",
    "        for host in record.hosts:\n",
    "            counted = False\n",
    "            host_names = getSpeciesNamesFromNameRecord(host.name)\n",
    "            for host_name in host_names:\n",
    "                if host_name == \"Homo sapiens\":\n",
    "                    hum = True\n",
    "                elif host_name in DOMESTICATED_ANIMALS:\n",
    "                    dom = True\n",
    "        if hum and dom:\n",
    "            count = count + 1\n",
    "            \n",
    "    return count\n",
    "\n",
    "infects_at_least_one_metazoan = countInfectsAtLeastOneMetazoan(myEntries)\n",
    "infects_at_least_one_domesticated_animal = countInfectsAtLeastOneDomesticatedAnimal(myEntries)\n",
    "infects_humans = countInfectsHumans(myEntries)\n",
    "infects_humans_and_at_least_one_domesticated_animal = countInfectsHumansAndAtLeastOneDomesticatedAnimal(myEntries)\n",
    "\n",
    "print(\"Number of Viruses that Infect at Least One Metazoan: %d\" % infects_at_least_one_metazoan)\n",
    "print(\"Number of Viruses that Infect At Least One Domesticated Animal Host: %d\" % infects_at_least_one_domesticated_animal)\n",
    "print(\"Number of Viruses that Infect Humans: %d\" % infects_humans)\n",
    "print(\"Number of Viruses that Infect Both: %d\" % infects_humans_and_at_least_one_domesticated_animal)\n",
    "\n",
    "def plotInfectsHumansDomesticatedAnimals(total, humans, domesticated_animals, both):\n",
    "    wild = total - (humans + domesticated_animals - both)\n",
    "    only_domestic = domesticated_animals - both\n",
    "    only_humans = humans - both\n",
    "    \n",
    "    ind = np.arange(1)\n",
    "    \n",
    "    fig, ax = plt.subplots()\n",
    "    pWild = ax.barh(ind, wild, height = 0.35, align='center')\n",
    "    pDomestic = ax.barh(ind, only_domestic, left=wild, height = 0.35, align='center')\n",
    "    pBoth = ax.barh(ind, both, left=wild+only_domestic, height = 0.35, align='center')\n",
    "    pHumans = ax.barh(ind, only_humans, left=wild+only_domestic+both, height = 0.35, align='center')\n",
    "    ax.legend( (pWild, pDomestic, pBoth, pHumans), (\"Infects only wild animals\", \"Infects at least one domesticated animal\", \"Infects both humans and at least one domesticated animal\", \"Infects humans\"))\n",
    "    ax.set_ylim(-0.2,0.8)\n",
    "    plt.yticks(ind, (\"Animals\"))\n",
    "\n",
    "    \n",
    "plotInfectsHumansDomesticatedAnimals(infects_at_least_one_metazoan, infects_humans, infects_at_least_one_domesticated_animal, infects_humans_and_at_least_one_domesticated_animal)\n"
   ]
  },
  {
   "cell_type": "markdown",
   "metadata": {},
   "source": [
    "Make a bar graph showing unique species of virus and host"
   ]
  },
  {
   "cell_type": "code",
   "execution_count": null,
   "metadata": {},
   "outputs": [],
   "source": [
    "def makeUniqueVirusesHostsPlot(uniqueViruses, uniqueHosts):\n",
    "    cats = ('Viruses', 'Hosts')\n",
    "    y_pos = np.arange(len(cats))\n",
    "    x_pos = (uniqueViruses, uniqueHosts)\n",
    "\n",
    "    fig, ax = plt.subplots()\n",
    "\n",
    "    bars = ax.bar(y_pos, x_pos, align='center', alpha = 0.5, tick_label=cats)\n",
    "    ax.set_xticks(y_pos, cats)\n",
    "    ax.set_ylabel('Number of Unique Species')\n",
    "    ax.set_title('Unique Species of Viruses and Hosts in the Database')\n",
    "\n",
    "    for bar in bars:\n",
    "        height = bar.get_height()\n",
    "        plt.text(bar.get_x() + bar.get_width()/2., height-1000, '%d' % int(height), ha='center', va='bottom')\n",
    "        \n",
    "makeUniqueVirusesHostsPlot(len(myEntries.keys()), hostCounter.numPresentKeys())"
   ]
  },
  {
   "cell_type": "markdown",
   "metadata": {},
   "source": [
    "Make a cumulative distribution showing number of hosts per virus"
   ]
  },
  {
   "cell_type": "code",
   "execution_count": null,
   "metadata": {},
   "outputs": [],
   "source": [
    "def hostsPerVirusPlot(myEntries):\n",
    "    counts = []\n",
    "    largest = 0\n",
    "    for key, record in myEntries.items():\n",
    "        count = len(record.hosts)\n",
    "        if count > largest:\n",
    "            largest = count\n",
    "        counts.append( float(count) )\n",
    "\n",
    "    countsArray = np.array(counts)\n",
    "    bins = np.arange(largest)\n",
    "\n",
    "    fig, ax = plt.subplots()\n",
    "\n",
    "    values, base = np.histogram(countsArray, bins=largest)\n",
    "    cumulative = np.cumsum(values)\n",
    "    ax.plot(base[:-1], cumulative)\n",
    "    \n",
    "    #hist = ax.hist(countsArray, bins, linewidth=1, histtype='step', cumulative=True, density=True)\n",
    "    #ax.set_xticks(bins)\n",
    "    ax.set_ylabel('Frequency')\n",
    "    ax.set_xlabel('Number of Hosts per Virus')\n",
    "    ax.set_title('Cumulative Distribution of Hosts per Virus')\n",
    "    \n",
    "hostsPerVirusPlot(myEntries)"
   ]
  },
  {
   "cell_type": "markdown",
   "metadata": {},
   "source": [
    "Make a bar graph of the clades species belong to"
   ]
  },
  {
   "cell_type": "code",
   "execution_count": null,
   "metadata": {},
   "outputs": [],
   "source": [
    "def pcc_sort(item):\n",
    "    return item[1]\n",
    "\n",
    "def hostCladesPlot(myEntries):\n",
    "    countedHostIds = []\n",
    "    cladeCounter = Counter()\n",
    "    for virus_tax_id, record in myEntries.items():\n",
    "        for host in record.hosts:\n",
    "            #print(host)\n",
    "            if host.tax_id not in countedHostIds:\n",
    "                countedHostIds.append(host.tax_id)\n",
    "                #print(host.lineage)\n",
    "                splitLineage = host.lineage.split('; ')\n",
    "                if len(splitLineage) < 2:\n",
    "                    continue\n",
    "                #print(splitLineage)\n",
    "                cladeCounter.add((splitLineage[0], splitLineage[1]), 1)\n",
    "\n",
    "    #print(cladeCounter.dict)\n",
    "\n",
    "    prunedCladeCounter = Counter()\n",
    "    for (clade1, clade2), count in cladeCounter.items():\n",
    "        if count > 100:\n",
    "            prunedCladeCounter.add( (clade1, clade2), count )\n",
    "        else:\n",
    "            prunedCladeCounter.add( (clade1, clade1), count )\n",
    "    \n",
    "    #print(prunedCladeCounter.dict)\n",
    "    pcc_items = sorted(list(prunedCladeCounter.items()), key=pcc_sort, reverse=True)\n",
    "    \n",
    "    clades = []\n",
    "    counts = []\n",
    "    for (clade1, clade2), count in pcc_items:\n",
    "        clade = None\n",
    "        if (clade2 == 'Eukaryota'):\n",
    "            clade = 'Other Eukaryotes'\n",
    "        elif (clade2 == 'Bacteria'):\n",
    "            clade = 'Other Bacteria'\n",
    "        else:\n",
    "            clade = clade2\n",
    "        clades.append(clade)\n",
    "        counts.append(count)\n",
    "\n",
    "    fig, ax = plt.subplots()\n",
    "\n",
    "    y_pos = np.arange(len(clades))\n",
    "    bars = ax.barh(y_pos, counts, align='center', alpha=0.5, tick_label=clades)\n",
    "    ax.set_xticks(y_pos, clades)\n",
    "    ax.set_xlabel('Number of Unique Species')\n",
    "    ax.set_xlim(0, 1500)\n",
    "\n",
    "    for bar in bars:\n",
    "        width = bar.get_width()\n",
    "        plt.text(width + 20, bar.get_y() + bar.get_height()/2., '%d' % int(width), ha='left', va='center')\n",
    "        #plt.text(bar.get_x() + bar.get_width()/2., height-1000, '%d' % int(height), ha='center', va='bottom')\n",
    "        \n",
    "hostCladesPlot(myEntries)"
   ]
  },
  {
   "cell_type": "markdown",
   "metadata": {},
   "source": [
    "Show how many of those that infect metazoans and plants infect humans and domesticated species specifically"
   ]
  },
  {
   "cell_type": "code",
   "execution_count": null,
   "metadata": {},
   "outputs": [],
   "source": [
    "def domesticatedWildPlot(myEntries):\n",
    "    countedHostIds = []\n",
    "    cladeCounter = Counter()\n",
    "    for virus_tax_id, record in myEntries.items():\n",
    "        for host in record.hosts:\n",
    "            #print(host)\n",
    "            if host.tax_id not in countedHostIds:\n",
    "                countedHostIds.append(host.tax_id)\n",
    "                #print(host.lineage)\n",
    "                splitLineage = host.lineage.split('; ')\n",
    "                if len(splitLineage) < 2:\n",
    "                    continue\n",
    "                #print(splitLineage)\n",
    "                cladeCounter.add((splitLineage[0], splitLineage[1]), 1)\n",
    "\n",
    "    #print(cladeCounter.dict)\n",
    "\n",
    "    prunedCladeCounter = Counter()\n",
    "    for (clade1, clade2), count in cladeCounter.items():\n",
    "        if count > 100:\n",
    "            prunedCladeCounter.add( (clade1, clade2), count )\n",
    "        else:\n",
    "            prunedCladeCounter.add( (clade1, clade1), count )\n",
    "    \n",
    "    #print(prunedCladeCounter.dict)\n",
    "    pcc_items = sorted(list(prunedCladeCounter.items()), key=pcc_sort, reverse=True)\n",
    "    \n",
    "    "
   ]
  },
  {
   "cell_type": "markdown",
   "metadata": {},
   "source": []
  }
 ],
 "metadata": {
  "kernelspec": {
   "display_name": "Python 3",
   "language": "python",
   "name": "python3"
  },
  "language_info": {
   "codemirror_mode": {
    "name": "ipython",
    "version": 3
   },
   "file_extension": ".py",
   "mimetype": "text/x-python",
   "name": "python",
   "nbconvert_exporter": "python",
   "pygments_lexer": "ipython3",
   "version": "3.6.4"
  }
 },
 "nbformat": 4,
 "nbformat_minor": 2
}
